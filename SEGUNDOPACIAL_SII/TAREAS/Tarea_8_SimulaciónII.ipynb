{
  "nbformat": 4,
  "nbformat_minor": 0,
  "metadata": {
    "colab": {
      "name": "Tarea_8_SimulaciónII.ipynb",
      "provenance": []
    },
    "kernelspec": {
      "name": "python3",
      "display_name": "Python 3"
    },
    "language_info": {
      "name": "python"
    }
  },
  "cells": [
    {
      "cell_type": "markdown",
      "source": [
        "# **Instrucciones**\n",
        "Elabore esta tarea en una notebook independiente, registrando sus resultados o las salidas de los programas. En todos los casos en que sea posible, resuelva los problemas mediante simulación y después verifique los resultados con las fórmulas correspondientes.\n"
      ],
      "metadata": {
        "id": "Bo0_bFA0k4we"
      }
    },
    {
      "cell_type": "markdown",
      "source": [
        "---\n",
        "---\n",
        "\n",
        "\n",
        "1. *En la biblioteca:*\n",
        "Un encargado de la biblioteca es el único en el mostrador durante todo su turno de trabajo. Las llegadas al mostrador siguen una distribución de Poisson con una media de 8 por hora. Cada usuario de la biblioteca es atendido de uno en uno, y el tiempo de servicio sigue una distribución exponencial con una media de 5 minutos.\n",
        "\n",
        "*   ¿Cuál es la probabilidad de que se forme cola?\n",
        "*   ¿Cuál es la longitud media de la cola?\n",
        "*   ¿Cuál es el tiempo medio que un cliente pasa en la biblioteca hasta que le han atendido?\n",
        "*   ¿Cuál es el tiempo medio que un cliente pasa en la cola esperando a que le atiendan?\n",
        "*   El encargado de la biblioteca pasa su tiempo en que no hay clientes clasificando artículos de revistas. Si puede clasificar 22 fichas por hora como media cuando trabaja continuamente, ¿cuántas fichas puede ordenar durante su trabajo?\n",
        "---\n",
        "---"
      ],
      "metadata": {
        "id": "RC5RiHGBi_Dn"
      }
    },
    {
      "cell_type": "code",
      "source": [
        "from random import expovariate\n",
        "import random\n",
        "from statistics import mean\n",
        "from math import inf as Infinity\n",
        "from random import seed\n",
        "from matplotlib.pyplot import *\n",
        "\n",
        "def l_espera(lambd,my,a):\n",
        "\n",
        "  Num_Pkts = 100000                   #Número de paquetes a simular\n",
        "  count = 0                           #Contador de paquetes simulados\n",
        "  t = 0\n",
        "  N = 0                               #Variable de estado: número de paquetes en el sistema\n",
        "\n",
        "  tll = expovariate(lambd)            #Tiempo de llegada\n",
        "  ts = Infinity                       #Tiempo de salida\n",
        "  t_evento_anterior = 0.0             #Tiempo del último evento\n",
        "\n",
        "  tll_Data = []                       #Lista de tiempos de llegada\n",
        "  ts_Data = []                        #Lista de tiempos de salida\n",
        "  r_Data = []                         #Lista de retrasos individuales\n",
        "  tf_Data=[]                          #Lista de tiempos en fila\n",
        "  tc_Data =[]                         #Lista de tiempos en caja\n",
        "\n",
        "  Data = {}\n",
        "\n",
        "  while count < Num_Pkts:\n",
        "      if tll < ts:                           #Evento de llegada\n",
        "          t = tll\n",
        "        \n",
        "#Longitud entre intervalos (tiempo)\n",
        "          delta = t - t_evento_anterior\n",
        "          if N in Data: \n",
        "              Data[N] += delta\n",
        "          else:\n",
        "              Data[N] = delta\n",
        "          t_evento_anterior = t\n",
        "        \n",
        "          tll_Data.append(t)\n",
        "          N = N + 1.0\n",
        "          tll = t + expovariate(lambd) \n",
        "          if N == 1:\n",
        "              tc=expovariate(my)\n",
        "              ts = t + tc\n",
        "              tc_Data.append(tc)\n",
        "      else:                                  #Evento de salida\n",
        "          t = ts\n",
        "        \n",
        "#Longitud entre intervalos (tiempo)\n",
        "          delta = t - t_evento_anterior\n",
        "          if N in Data:\n",
        "              Data[N] += delta\n",
        "          else:\n",
        "              Data[N] = delta\n",
        "          t_evento_anterior = t\n",
        "        \n",
        "          ts_Data.append(t)\n",
        "          N = N - 1.0\n",
        "          count = count + 1                         #Paquetes simulados\n",
        "          if N > 0:\n",
        "              tc=expovariate(my)\n",
        "              ts = t + tc\n",
        "              tc_Data.append(tc)\n",
        "          else:\n",
        "              ts = Infinity\n",
        "\n",
        "#DATOS DE SALIDA PROCESADOS\n",
        "          \n",
        "#Estimación de la probabilidad de **P(N=k)**\n",
        "  for (key, value) in Data.items():\n",
        "      Data[key] = value/t\n",
        "\n",
        "  media = 0.0\n",
        "  media2=0.0\n",
        "  medial=[]\n",
        "  for (key, value) in Data.items():\n",
        "\n",
        "        media = media + key*value\n",
        "        if (key-1)>=1:\n",
        "          media2= media2 + (key-1.0)*value\n",
        "        medial.append(value)\n",
        "                                                                                \n",
        " #Opciones por realizar:\n",
        "    #1) Retraso promedio \n",
        "    #2) Número medio de clientes en el sistema \n",
        "    #3) Probabilidad de que se forme en cola  \n",
        "\n",
        "  if a==1:\n",
        "#Estimación del retraso promedio:\n",
        "    for i in range(Num_Pkts):\n",
        "    #for i in range(T):\n",
        "        d = ts_Data[i] - tll_Data[i]                #Retraso en sistema\n",
        "        d2= ts_Data[i] - tll_Data[i]-tc_Data[i]     #Retraso en fila\n",
        "        tf_Data.append(d2)\n",
        "        r_Data.append(d)\n",
        "\n",
        "    print( \"Retraso promedio: W = \", round( mean(r_Data), 4) )\n",
        "    print(\"Tiempo en fila: Wq =\",mean(tf_Data))\n",
        "\n",
        "  elif a==2:\n",
        "    print('E[N]: L = ', media)\n",
        "    print(\"L_q: \",media2)\n",
        "\n",
        "  else:\n",
        "    print('¿Cuál es la probabilidad de que se forme cola? p = ', sum(Data.values())-medial[0])\n",
        "    print(\"¿Cuál es la probabilidad de que se encuentre vacio? q = \",medial[0])"
      ],
      "metadata": {
        "id": "-5Eg8o7zYAGh"
      },
      "execution_count": 6,
      "outputs": []
    },
    {
      "cell_type": "markdown",
      "source": [
        "---\n",
        "Sabemos que nuestros parametros son: λ = 8, μ =12 .\n",
        "\n",
        "\n",
        "A)¿Cuál es la probabilidad de que se forme cola?\n",
        "\n",
        "\n",
        "$$ρ=\\frac{λ}{μ}=\\frac{8}{12}=\\frac{2}{3}=0.666$$\n",
        "\n",
        "\n"
      ],
      "metadata": {
        "id": "LA2UeFDJlmI9"
      }
    },
    {
      "cell_type": "code",
      "source": [
        "print(\"Respuesta de la primer pregunta:\\n \")\n",
        "A=l_espera(8,12,3)"
      ],
      "metadata": {
        "colab": {
          "base_uri": "https://localhost:8080/"
        },
        "id": "ncYgN9RMavR3",
        "outputId": "f4909067-588e-493e-9ef6-e82c47d284bd"
      },
      "execution_count": 8,
      "outputs": [
        {
          "output_type": "stream",
          "name": "stdout",
          "text": [
            "Respuesta de la primer pregunta:\n",
            " \n",
            "¿Cuál es la probabilidad de que se forme cola? p =  0.6656595356674839\n",
            "¿Cuál es la probabilidad de que se encuentre vacio? q =  0.33434046433251635\n"
          ]
        }
      ]
    },
    {
      "cell_type": "markdown",
      "source": [
        "---\n",
        "B) ¿Cuál es la longitud media de la cola?\n",
        "\n",
        "$$L_q=λW_q=λ(W-\\frac{1}{μ})=8(0.25-\\frac{1}{12})=8(0.1698)=1.333$$\n"
      ],
      "metadata": {
        "id": "zaDLtV81gQKw"
      }
    },
    {
      "cell_type": "code",
      "source": [
        "print(\"Respuesta de la segunda pregunta:\\n \")\n",
        "B_1=l_espera(8,12,1)\n",
        "B_2=l_espera(8,12,2)"
      ],
      "metadata": {
        "colab": {
          "base_uri": "https://localhost:8080/"
        },
        "id": "mloT8krVjig0",
        "outputId": "bb45fd7a-9be9-4d2e-bd3c-6eec6f5e60fd"
      },
      "execution_count": 11,
      "outputs": [
        {
          "output_type": "stream",
          "name": "stdout",
          "text": [
            "Respuesta de la segunda pregunta:\n",
            " \n",
            "Retraso promedio: W =  0.2501\n",
            "Tiempo en fila: Wq = 0.16663144115916625\n",
            "E[N]: L =  2.021109552992929\n",
            "L_q:  1.356702955968452\n"
          ]
        }
      ]
    },
    {
      "cell_type": "markdown",
      "source": [
        "---\n",
        "C) ¿Cuál es el tiempo medio que un cliente pasa en la biblioteca hasta que le han atendido?\n",
        "\n",
        "Usando las salidas de programa, resolvemos manualmente:\n",
        "\n",
        "$$W=W_q+\\frac{1}{μ}=0.166+\\frac{1}{12}=0.25$$\n"
      ],
      "metadata": {
        "id": "AWCFc2V3k_SS"
      }
    },
    {
      "cell_type": "code",
      "source": [
        "print(\"Respuesta de la tercera pregunta:\\n \")\n",
        "C=l_espera(8,12,1)"
      ],
      "metadata": {
        "colab": {
          "base_uri": "https://localhost:8080/"
        },
        "outputId": "29bfd27d-b5de-46c2-dbb4-6c770e6e759a",
        "id": "Qqah3mMtldeE"
      },
      "execution_count": 23,
      "outputs": [
        {
          "output_type": "stream",
          "name": "stdout",
          "text": [
            "Respuesta de la tercera pregunta:\n",
            " \n",
            "Retraso promedio: W =  0.2457\n",
            "Tiempo en fila: Wq = 0.16273923416230598\n"
          ]
        }
      ]
    },
    {
      "cell_type": "markdown",
      "source": [
        "---\n",
        "D) ¿Cuál es el tiempo medio que un cliente pasa en la cola esperando a que le atiendan?\n",
        "\n",
        "Usando las salidas de programa, resolvemos manualmente:\n",
        "\n",
        "$$W_q=W-\\frac{1}{μ}=0.25-\\frac{1}{12}=0.1666$$\n"
      ],
      "metadata": {
        "id": "Dg1vmfivltm6"
      }
    },
    {
      "cell_type": "code",
      "source": [
        "print(\"Respuesta de la cuarta pregunta:\\n \")\n",
        "D=l_espera(8,12,1)"
      ],
      "metadata": {
        "colab": {
          "base_uri": "https://localhost:8080/"
        },
        "outputId": "83f7915e-ca5c-448c-aebd-bd1ac8cdcf03",
        "id": "-moqz5OrmIPh"
      },
      "execution_count": 24,
      "outputs": [
        {
          "output_type": "stream",
          "name": "stdout",
          "text": [
            "Respuesta de la cuarta pregunta:\n",
            " \n",
            "Retraso promedio: W =  0.2431\n",
            "Tiempo en fila: Wq = 0.16033066569398075\n"
          ]
        }
      ]
    },
    {
      "cell_type": "markdown",
      "source": [
        "---\n",
        "E) El encargado de la biblioteca pasa su tiempo en que no hay clientes clasificando artículos de revistas. Si puede clasificar 22 fichas por hora como media cuando trabaja continuamente, ¿cuántas fichas puede ordenar durante su trabajo?\n",
        "\n",
        "Usando las salidas de programa, resolvemos manualmente:\n",
        "\n",
        "$$E(fichasporhora)=0.33(22)=7.26$$"
      ],
      "metadata": {
        "id": "yy7hRQvpmdks"
      }
    },
    {
      "cell_type": "code",
      "source": [
        "print(\"Respuesta de la quinta pregunta:\\n \")\n",
        "D=l_espera(8,12,3)"
      ],
      "metadata": {
        "colab": {
          "base_uri": "https://localhost:8080/"
        },
        "outputId": "5cd5a36b-e8e0-40a2-b474-d0fe19456c3c",
        "id": "ss_IF_Oymvy0"
      },
      "execution_count": 25,
      "outputs": [
        {
          "output_type": "stream",
          "name": "stdout",
          "text": [
            "Respuesta de la quinta pregunta:\n",
            " \n",
            "¿Cuál es la probabilidad de que se forme cola? p =  0.6683781592366522\n",
            "¿Cuál es la probabilidad de que se encuentre vacio? q =  0.3316218407633478\n"
          ]
        }
      ]
    },
    {
      "cell_type": "markdown",
      "source": [
        "---\n",
        "---\n",
        "2. *Lavado de autos:*\n",
        "Un pequeño autoservicio de lavado que solo tienen capacidad para atender de uno en uno a los autos que llegan, tiene un aparcamiento para 10 coches, incluyendo el que está siendo lavado. La empresa ha estimado que los coches llegan siguiendo una distribución de Poisson con una media de 20 coches/hora, el tiempo de servicio sigue una distribución exponencial\n",
        "de 12 minutos. La empresa abre durante 10 horas al día.\n",
        "\n",
        "*   ¿Cuál es la media de coches perdidos cada día debido a las limitaciones de espacio?\n",
        "---\n",
        "---\n",
        "Sabemos que nuestros parametros son: λ = 20 coches/hora, μ =12 coches/hora y max = 10 horas al día."
      ],
      "metadata": {
        "id": "iGGgRRwwkpFH"
      }
    },
    {
      "cell_type": "code",
      "source": [
        "def l_espera_2(lambd,my,max,total):\n",
        "\n",
        "  T = total                           #Tiempo máximo \n",
        "  count = 0                           #Contador simulador\n",
        "  t = 0\n",
        "  N = 0                               #Variable de estado\n",
        "  CNA=0                               #Clientes no atendidos\n",
        "\n",
        "  tll =- ((1/lambd)*np.log(random.random()))       #Tiempo de llegada\n",
        "  ts = Infinity                                    #Tiempo de salida\n",
        "  t_evento_anterior = 0.0                          #Tiempo del último evento\n",
        "\n",
        "  while t < T:\n",
        "      if tll < ts:                     #Evento de llegada\n",
        "          t = tll\n",
        "        \n",
        "#Longitud entre intervalos (tiempo)\n",
        "          delta = t - t_evento_anterior\n",
        "          t_evento_anterior = t\n",
        "        \n",
        "          if N>=max:                                    #Separa a los que no alcanzan a ser atendidos \n",
        "            CNA=CNA+1\n",
        " \n",
        "          else:\n",
        "            N = N + 1.0\n",
        "\n",
        "          tll = t - ((1/lambd)*np.log(random.random())) \n",
        "\n",
        "          if N == 1:\n",
        "              ts = t + expovariate(my)\n",
        "      else:                                         #Evento de salida\n",
        "          t = ts\n",
        "        \n",
        "#Longitud entre intervalos (tiempo)\n",
        "          delta = t - t_evento_anterior\n",
        "        \n",
        "          N = N - 1.0\n",
        "          count = count + 1                        #Paquetes simulados\n",
        "          if N > 0:\n",
        "              ts = t + expovariate(my)\n",
        "          else:\n",
        "              ts = Infinity\n",
        " \n",
        "  return CNA\n",
        "\n",
        "media = []\n",
        "\n",
        "for i in range(10000):\n",
        "  media.append(l_espera_2(20,5,10,10))\n",
        "\n",
        "print(\"Respuesta del segundo problema:\\n\")\n",
        "print(\"Promedio de autos sin atender= \",mean(media))"
      ],
      "metadata": {
        "colab": {
          "base_uri": "https://localhost:8080/"
        },
        "id": "gwsk4whAo55H",
        "outputId": "a07d2923-64e5-436d-eaac-74f3cc18f878"
      },
      "execution_count": 29,
      "outputs": [
        {
          "output_type": "stream",
          "name": "stdout",
          "text": [
            "Respuesta del segundo problema:\n",
            "\n",
            "Promedio de autos sin atender=  141.1636\n"
          ]
        }
      ]
    },
    {
      "cell_type": "markdown",
      "source": [
        "---\n",
        "---\n",
        "3. *John Macko:*\n",
        "John Macko es alumno en la U de Ozark. Hace trabajos extraños para aumentar sus ingresos. Las peticiones de trabajo llegan en promedio cada 5 días, pero el tiempo entre ellas es exponencial. El tiempo para terminar un trabajo también es exponencial, con una media de 4 días.\n",
        "*   ¿Cuál es la probabilidad de que le falte trabajo a John?\n",
        "*   Si John cobra unos 50 pesos por cada trabajo, ¿cuál es su ingreso mensual promedio?\n",
        "*   Si al final del semestre John decide subcontratar los trabajos pendientes a 40 pesos cada uno, ¿cuánto debe esperar pagar en promedio?\n",
        "---\n",
        "---\n",
        "Sabemos que nuestros parametros son: λ = 0.2 trabajos por día y μ =0.5 trabajos por día."
      ],
      "metadata": {
        "id": "Yfkvu5zCkr7p"
      }
    },
    {
      "cell_type": "code",
      "source": [
        "def l_espera_3(lambd,my,a,b,c,d):\n",
        "\n",
        "  T = b\n",
        "  count = 0                           #Contador de paquetes simulados\n",
        "  t = 0\n",
        "  N = 0                               #Variable de estado\n",
        "\n",
        "  tll = expovariate(lambd)            #Tiempo de llegada\n",
        "  ts = Infinity                       #Tiempo de salida\n",
        "  t_evento_anterior = 0.0             #Tiempo del último evento\n",
        "\n",
        "  tll_Data = []                       #Lista de tiempos de llegada\n",
        "  ts_Data = []                        #Lista de tiempos de salida\n",
        "  r_Data = []                         #Lista de retrasos individuales\n",
        "  tc_Data =[]                         #Lista de tiempos en caja\n",
        "  tf_Data=[]                          #Lista de tiempos en fila\n",
        "\n",
        "  Data = {}\n",
        "\n",
        "  while t < T:\n",
        "      if tll < ts:                           # vento de llegada\n",
        "          t = tll\n",
        "        \n",
        "#Longitud entre intervalos (tiempo)\n",
        "          delta = t - t_evento_anterior\n",
        "          if N in Data: \n",
        "              Data[N] += delta\n",
        "          else:\n",
        "              Data[N] = delta\n",
        "          t_evento_anterior = t\n",
        "        \n",
        "          tll_Data.append(t)\n",
        "          N = N + 1.0\n",
        "          tll = t + expovariate(lambd) \n",
        "          if N == 1:\n",
        "              tc=expovariate(my)\n",
        "              ts = t + tc\n",
        "              tc_Data.append(tc)\n",
        "      else:                                         #Evento de salida\n",
        "          t = ts\n",
        "        \n",
        "#Longitud entre intervalos (tiempo)\n",
        "          delta = t - t_evento_anterior\n",
        "          if N in Data:\n",
        "              Data[N] += delta\n",
        "          else:\n",
        "              Data[N] = delta\n",
        "          t_evento_anterior = t\n",
        "        \n",
        "          ts_Data.append(t)\n",
        "          N = N - 1.0\n",
        "          count = count + 1                         #Paquetes simulados\n",
        "          if N > 0:\n",
        "              tc=expovariate(my)\n",
        "              ts = t + tc\n",
        "              tc_Data.append(tc)\n",
        "          else:\n",
        "              ts = Infinity\n",
        "\n",
        "#DATOS DE SALIDA PROCESADOS\n",
        "\n",
        "\n",
        "#Estimación de la probabilidad de P(N=k):\n",
        "  for (key, value) in Data.items():\n",
        "      Data[key] = value/t\n",
        "\n",
        "#Se verifica que la probabilidad total es 1.0\n",
        "\n",
        "  media = 0.0\n",
        "  media2=0.0\n",
        "  medial=[]\n",
        "  for (key, value) in Data.items():\n",
        "                                                                                #Se verifican los valores de expectación \n",
        "        media = media + key*value\n",
        "        if (key-1)>=1:                                                          #Se calcula lq\n",
        "          media2= media2 + (key-1.0)*value\n",
        "        medial.append(value)\n",
        "                                                                                \n",
        "#Opciones:\n",
        "    #1) Retraso media \n",
        "    #2) Número medio de clientes en el sistema \n",
        "    #3) Probabilidad de que se forme cola  \n",
        "    #4) Pago de los trabajo hechos \n",
        "    #5) Trabajadores para subcontratar   \n",
        "\n",
        "  if a==1:\n",
        "# Estimación del retraso promedio:\n",
        "    for i in range(len(ts_Data)):\n",
        "        d = ts_Data[i] - tll_Data[i]              #Retraso en sistema\n",
        "        d2= ts_Data[i] - tll_Data[i]-tc_Data[i]   #Retraso en fila\n",
        "        tf_Data.append(d2)\n",
        "        r_Data.append(d)\n",
        "    print( \"Retraso promedio: W = \", round( mean(r_Data), 4) )\n",
        "    print(\"Tiempo en fila:W_q=\",mean(tf_Data))\n",
        "\n",
        "  elif a==2:\n",
        "    print('E[N]: L = ', media)\n",
        "    print(\"L_q =\",media2)\n",
        "\n",
        "  elif a==3:\n",
        "    print('¿Cuál es la probabilidad de que se forme cola? p = ', sum(Data.values())-medial[0])\n",
        "    print(\"¿Cuál es la probabilidad de que se encuentre vacio? q = \",medial[0])\n",
        "\n",
        "  elif a==4:\n",
        "    return count*c\n",
        "\n",
        "  else:\n",
        "    return N*d"
      ],
      "metadata": {
        "id": "XxdyygHS4MYy"
      },
      "execution_count": 30,
      "outputs": []
    },
    {
      "cell_type": "markdown",
      "source": [
        "A) ¿Cuál es la probabilidad de que le falte trabajo a John?\n",
        "\n",
        "$$p_0=1-p=1-\\frac{λ}{μ}=1-\\frac{0.2}{0.25}=0.2$$"
      ],
      "metadata": {
        "id": "geYRDuaj6cLd"
      }
    },
    {
      "cell_type": "code",
      "source": [
        "A=l_espera_3(0.2,0.25,3,100,50,0)"
      ],
      "metadata": {
        "colab": {
          "base_uri": "https://localhost:8080/"
        },
        "id": "GOL_V4jZ322R",
        "outputId": "c7dcda97-bec3-4d0b-a7b8-a5ac9750289f"
      },
      "execution_count": 32,
      "outputs": [
        {
          "output_type": "stream",
          "name": "stdout",
          "text": [
            "¿Cuál es la probabilidad de que se forme cola? p =  0.9647601242230285\n",
            "¿Cuál es la probabilidad de que se encuentre vacio? q =  0.03523987577697149\n"
          ]
        }
      ]
    },
    {
      "cell_type": "markdown",
      "source": [
        "B) Si John cobra unos $50 por cada trabajo, ¿cuál es su ingreso mensual promedio?"
      ],
      "metadata": {
        "id": "f8rdOMKZ6xjE"
      }
    },
    {
      "cell_type": "code",
      "source": [
        "media=[]\n",
        "for i in range(10000):\n",
        "  media.append(l_espera_3(0.2,0.25,4,30,50,0))\n",
        "print(\"Su ingreso mensual promedio es: $\",mean(media))"
      ],
      "metadata": {
        "colab": {
          "base_uri": "https://localhost:8080/"
        },
        "outputId": "548151aa-a0fa-4b5d-9dc0-6f57ff4fe243",
        "id": "ybw5fel660z4"
      },
      "execution_count": 35,
      "outputs": [
        {
          "output_type": "stream",
          "name": "stdout",
          "text": [
            "Su ingreso mensual promedio es: $ 229.04\n"
          ]
        }
      ]
    },
    {
      "cell_type": "markdown",
      "source": [
        "C) Si al final del semestre John decide subcontratar los trabajos pendientes a $40 cada uno, ¿cuánto debe esperar pagar en promedio?"
      ],
      "metadata": {
        "id": "OYLF5huMIszU"
      }
    },
    {
      "cell_type": "code",
      "source": [
        "media=[]\n",
        "for i in range(10000):\n",
        "  media.append(l_espera_3(0.2,0.25,5,182.5,50,40))\n",
        "print(\"El pago esperado promedio es: $\",mean(media))"
      ],
      "metadata": {
        "colab": {
          "base_uri": "https://localhost:8080/"
        },
        "id": "MjeTD9LtJStw",
        "outputId": "7a1a5c03-3332-4639-c829-299eff5b0ef7"
      },
      "execution_count": 36,
      "outputs": [
        {
          "output_type": "stream",
          "name": "stdout",
          "text": [
            "El pago esperado promedio es: $ 138.364\n"
          ]
        }
      ]
    }
  ]
}