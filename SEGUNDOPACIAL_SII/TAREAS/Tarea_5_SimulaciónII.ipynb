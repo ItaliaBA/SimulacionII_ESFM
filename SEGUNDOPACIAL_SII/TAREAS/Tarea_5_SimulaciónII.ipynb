{
  "nbformat": 4,
  "nbformat_minor": 0,
  "metadata": {
    "colab": {
      "name": "Tarea_5_SimulaciónII.ipynb",
      "provenance": []
    },
    "kernelspec": {
      "name": "python3",
      "display_name": "Python 3"
    },
    "language_info": {
      "name": "python"
    }
  },
  "cells": [
    {
      "cell_type": "code",
      "execution_count": 18,
      "metadata": {
        "colab": {
          "base_uri": "https://localhost:8080/"
        },
        "id": "Fg0QEHzxAEG-",
        "outputId": "a05e8a2e-198f-44e4-f80b-2f89acf2ace4"
      },
      "outputs": [
        {
          "output_type": "stream",
          "name": "stdout",
          "text": [
            "Tiempo transcurrido =  184.79096712301373\n",
            "Número de clientes en el sistema al tiempo t =  13\n",
            "Hora de la primera llegada =  101.62762771880104\n"
          ]
        }
      ],
      "source": [
        "import random\n",
        "import numpy as np\n",
        "\n",
        "lamb = 0.1\n",
        "t = 0 #tiempo transcrurrido\n",
        "NA = 0 #numero de llegadas\n",
        "ND = 0 #numero de salidas\n",
        "n=0 #numero de clientes en el sistema al tiempo t\n",
        "ES = 0\n",
        "tA = t - (1/lamb)*np.log(random.random()) #hora de la primer llegada\n",
        "tD = 1000000 #hora de salida\n",
        "T = 100 #Tiempo de simulación\n",
        "for i in range(T):\n",
        "    t = t + 1\n",
        "    if tA <= tD and tA <= T:\n",
        "        t = tA\n",
        "        NA += 1\n",
        "        n += 1\n",
        "        tA = t - (1/lamb)*np.log(random.random())\n",
        "\n",
        "print(\"Tiempo transcurrido = \", t)\n",
        "print(\"Número de clientes en el sistema al tiempo t = \", n)\n",
        "print(\"Hora de la primera llegada = \", tA)"
      ]
    }
  ]
}