{
  "cells": [
    {
      "cell_type": "markdown",
      "metadata": {
        "id": "a_11mqsghGX2"
      },
      "source": [
        "### Ejemplo:"
      ]
    },
    {
      "cell_type": "markdown",
      "metadata": {
        "id": "3Yt4bOv4hGX3"
      },
      "source": [
        "Lavado Automata para automóviles funciona sólo con un lugar. Los autos llegan siguiendo\n",
        "una distribución de Poisson, con 4 autos por hora, que pueden esperar en el estacionamiento de\n",
        "la instalación, si el lugar de lavado está ocupado. El tiempo para lavar y limpiar un automóvil\n",
        "es exponencial, con 10 minutos de promedio. Los automóviles que no se pueden estacionar en\n",
        "la instalación pueden esperar en el arrollo junto al lavado. Eso quiere decir que para todo fin\n",
        "práctico no hay límite del tamaño del sistema. El gerente de la instalación desea determinar el\n",
        "tamaño del estacionamiento.\n",
        "\n",
        "Para resolver este problema, hay que determinar $L_q$, pero de momento estimemos $L$ y $W$ usando la simulación."
      ]
    },
    {
      "cell_type": "markdown",
      "metadata": {
        "id": "ukTJh4O9hGX6"
      },
      "source": [
        "Calcular $L_q$ para el ejemplo anterior, usando las fórmulas de arriba."
      ]
    },
    {
      "cell_type": "markdown",
      "source": [
        "Mis parametros para este ejercicio son:\n",
        "\n",
        "$\\lambda=4$\n",
        "\n",
        "$\\mu=6$"
      ],
      "metadata": {
        "id": "_dM9jyCwiroi"
      }
    },
    {
      "cell_type": "code",
      "source": [
        "from random import expovariate\n",
        "import random\n",
        "from statistics import mean\n",
        "from math import inf as Infinity\n",
        "from random import seed\n",
        "from matplotlib.pyplot import *\n",
        "\n",
        "def l_espera(lambd,my,a):\n",
        "\n",
        "  Num_Pkts = 100000                   #Número de paquetes a simular\n",
        "  count = 0                           #Contador de paquetes simulados\n",
        "  t = 0\n",
        "  N = 0                               #Variable de estado: número de paquetes en el sistema\n",
        "\n",
        "  tll = expovariate(lambd)            #Tiempo de llegada\n",
        "  ts = Infinity                       #Tiempo de salida\n",
        "  t_evento_anterior = 0.0             #Tiempo del último evento\n",
        "\n",
        "  tll_Data = []                       #Lista de tiempos de llegada\n",
        "  ts_Data = []                        #Lista de tiempos de salida\n",
        "  r_Data = []                         #Lista de retrasos individuales\n",
        "  tf_Data=[]                          #Lista de tiempos en fila\n",
        "  tc_Data =[]                         #Lista de tiempos en caja\n",
        "\n",
        "  Data = {}\n",
        "\n",
        "  while count < Num_Pkts:\n",
        "      if tll < ts:                           #Evento de llegada\n",
        "          t = tll\n",
        "        \n",
        "#Longitud entre intervalos (tiempo)\n",
        "          delta = t - t_evento_anterior\n",
        "          if N in Data: \n",
        "              Data[N] += delta\n",
        "          else:\n",
        "              Data[N] = delta\n",
        "          t_evento_anterior = t\n",
        "        \n",
        "          tll_Data.append(t)\n",
        "          N = N + 1.0\n",
        "          tll = t + expovariate(lambd) \n",
        "          if N == 1:\n",
        "              tc=expovariate(my)\n",
        "              ts = t + tc\n",
        "              tc_Data.append(tc)\n",
        "      else:                                  #Evento de salida\n",
        "          t = ts\n",
        "        \n",
        "#Longitud entre intervalos (tiempo)\n",
        "          delta = t - t_evento_anterior\n",
        "          if N in Data:\n",
        "              Data[N] += delta\n",
        "          else:\n",
        "              Data[N] = delta\n",
        "          t_evento_anterior = t\n",
        "        \n",
        "          ts_Data.append(t)\n",
        "          N = N - 1.0\n",
        "          count = count + 1                         #Paquetes simulados\n",
        "          if N > 0:\n",
        "              tc=expovariate(my)\n",
        "              ts = t + tc\n",
        "              tc_Data.append(tc)\n",
        "          else:\n",
        "              ts = Infinity\n",
        "\n",
        "#DATOS DE SALIDA PROCESADOS\n",
        "          \n",
        "#Estimación de la probabilidad de **P(N=k)**\n",
        "  for (key, value) in Data.items():\n",
        "      Data[key] = value/t\n",
        "\n",
        "  media = 0.0\n",
        "  media2=0.0\n",
        "  medial=[]\n",
        "  for (key, value) in Data.items():\n",
        "\n",
        "        media = media + key*value\n",
        "        if (key-1)>=1:\n",
        "          media2= media2 + (key-1.0)*value\n",
        "        medial.append(value)\n",
        "                                                                                \n",
        " #Opciones por realizar:\n",
        "    #1) Retraso promedio \n",
        "    #2) Número medio de clientes en el sistema \n",
        "    #3) Probabilidad de que se forme en cola  \n",
        "\n",
        "  if a==1:\n",
        "#Estimación del retraso promedio:\n",
        "    for i in range(Num_Pkts):\n",
        "    #for i in range(T):\n",
        "        d = ts_Data[i] - tll_Data[i]                #Retraso en sistema\n",
        "        d2= ts_Data[i] - tll_Data[i]-tc_Data[i]     #Retraso en fila\n",
        "        tf_Data.append(d2)\n",
        "        r_Data.append(d)\n",
        "\n",
        "    print( \"Retraso promedio: W = \", round( mean(r_Data), 4) )\n",
        "    print(\"Tiempo en fila: Wq =\",mean(tf_Data))\n",
        "\n",
        "  elif a==2:\n",
        "    print('E[N]: L = ', media)\n",
        "    print(\"L_q: \",media2)\n",
        "\n",
        "  else:\n",
        "    print('¿Cuál es la probabilidad de que se forme cola? p = ', sum(Data.values())-medial[0])\n",
        "    print(\"¿Cuál es la probabilidad de que se encuentre vacio? q = \",medial[0])\n",
        "\n",
        "A=l_espera(4,6,2)\n",
        "A=l_espera(4,6,1)"
      ],
      "metadata": {
        "id": "-5Eg8o7zYAGh",
        "colab": {
          "base_uri": "https://localhost:8080/"
        },
        "outputId": "b9462dd1-547d-42b8-8e12-0328be934955"
      },
      "execution_count": 6,
      "outputs": [
        {
          "output_type": "stream",
          "name": "stdout",
          "text": [
            "E[N]: L =  1.9864758854096252\n",
            "L_q:  1.3209142890851509\n",
            "Retraso promedio: W =  0.4951\n",
            "Tiempo en fila: Wq = 0.3283758676187742\n"
          ]
        }
      ]
    },
    {
      "cell_type": "markdown",
      "metadata": {
        "id": "danish-positive"
      },
      "source": [
        "Encontramos nuevos parametros, gracias a nuestro código:\n",
        "\n",
        "$L=1.9864$\n",
        "\n",
        "$W=0.4951$\n",
        "\n",
        "Si bien sabemos, nuestra formula de $L_q$ es:\n",
        "\n",
        "$L_q=\\lambda W_q  *-- (1)$\n",
        "\n",
        "donde:\n",
        "\n",
        "$W_q=W-\\frac{1}{\\mu}  *-- (2)$\n",
        "\n",
        "resolviendo la ecuación (2), tenemos:\n",
        "\n",
        "$W_q=0.4951-\\frac{1}{6} = 0.3284 $  $*-- (3)$\n",
        "\n",
        "ahora sustituimos ecuación (3) en ecuación (1):\n",
        "\n",
        "$L_q=\\lambda W_q = (4) (0.3284) = 1.3136$"
      ]
    }
  ],
  "metadata": {
    "kernelspec": {
      "display_name": "Python 3",
      "language": "python",
      "name": "python3"
    },
    "language_info": {
      "codemirror_mode": {
        "name": "ipython",
        "version": 3
      },
      "file_extension": ".py",
      "mimetype": "text/x-python",
      "name": "python",
      "nbconvert_exporter": "python",
      "pygments_lexer": "ipython3",
      "version": "3.7.3"
    },
    "colab": {
      "name": "Ejercicio_14_SimulaciónII.ipynb",
      "provenance": []
    }
  },
  "nbformat": 4,
  "nbformat_minor": 0
}