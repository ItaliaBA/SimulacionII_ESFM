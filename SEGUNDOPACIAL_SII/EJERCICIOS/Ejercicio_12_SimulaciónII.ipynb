{
  "nbformat": 4,
  "nbformat_minor": 0,
  "metadata": {
    "colab": {
      "name": "Ejercicio_12_SimulaciónII.ipynb",
      "provenance": []
    },
    "kernelspec": {
      "name": "python3",
      "display_name": "Python 3"
    },
    "language_info": {
      "name": "python"
    }
  },
  "cells": [
    {
      "cell_type": "code",
      "execution_count": 7,
      "metadata": {
        "colab": {
          "base_uri": "https://localhost:8080/"
        },
        "id": "Fg0QEHzxAEG-",
        "outputId": "42904552-7d5e-4a77-9a1e-220ffd025341"
      },
      "outputs": [
        {
          "output_type": "stream",
          "name": "stdout",
          "text": [
            "Ts =  [2.7137959055981504, 3.0955415199814724, 3.265393460786271]\n"
          ]
        }
      ],
      "source": [
        "import random\n",
        "import numpy as np\n",
        "\n",
        "def TS(n):\n",
        "    t = 0\n",
        "    lamb = 1\n",
        "    TS = []\n",
        "    for i in range(n):\n",
        "        u = random.random()\n",
        "        lamb_t = random.expovariate(lamb)\n",
        "        if u <= lamb_t/lamb:\n",
        "            t = t - (1/lamb)*np.log(u)\n",
        "            TS.append(t)\n",
        "    return TS\n",
        "\n",
        "print(\"Ts = \", TS(4))"
      ]
    }
  ]
}