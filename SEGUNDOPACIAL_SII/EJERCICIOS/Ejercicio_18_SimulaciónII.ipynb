{
  "cells": [
    {
      "cell_type": "markdown",
      "metadata": {
        "id": "q377Il3QXN7Q"
      },
      "source": [
        "# Intervalos de Confianza\n",
        "\n",
        "Bernal Aguilar Italia"
      ]
    },
    {
      "cell_type": "markdown",
      "metadata": {
        "id": "6LB4YRPtXN7Y"
      },
      "source": [
        "### Ejercicio:\n",
        "\n",
        "1. Hacer una función que devuelva el intervalo de confianza.\n",
        "\n",
        "2. Calcular los intervalos de confianza a 80, 90, 95, 98 y 99% con la muestra:\n",
        "\n",
        "  $\\{3.33, \\; 3.15,\\; 2.91,\\; 3.05,\\; 2.75 \\}$"
      ]
    },
    {
      "cell_type": "code",
      "execution_count": 1,
      "metadata": {
        "id": "BgEjxYB3XN7V"
      },
      "outputs": [],
      "source": [
        "import statistics as stat\n",
        "import math"
      ]
    },
    {
      "cell_type": "code",
      "execution_count": 2,
      "metadata": {
        "id": "T_8trslpXN7W"
      },
      "outputs": [],
      "source": [
        "muestra = [3.2, 3, 2.8, 2.9, 3.1]"
      ]
    },
    {
      "cell_type": "code",
      "execution_count": 4,
      "metadata": {
        "colab": {
          "base_uri": "https://localhost:8080/"
        },
        "id": "xDZ4eqfYXN7X",
        "outputId": "905fbbfd-cc89-4150-a41d-488ead055cb6"
      },
      "outputs": [
        {
          "output_type": "stream",
          "name": "stdout",
          "text": [
            "Media: 3.0\n",
            "Desviación estandar: 0.1581138830084191\n",
            "Intervalo de confianza: 2.8 3.2\n"
          ]
        }
      ],
      "source": [
        "n=len(muestra)             \n",
        "mean=stat.mean(muestra) \n",
        "s=stat.stdev(muestra) \n",
        "t=2.776   \n",
        "\n",
        "ic1 = mean - t*(s/math.sqrt(n))     \n",
        "ic2 = mean + t*(s/math.sqrt(n))\n",
        "\n",
        "print(\"Media:\",mean)\n",
        "print(\"Desviación estandar:\",s)\n",
        "print(\"Intervalo de confianza:\", round(ic1, 2), round(ic2, 2))"
      ]
    },
    {
      "cell_type": "code",
      "source": [
        "S=((3.2-3.0)**2+(3.0-3.0)**2+(2.8-3.0)**2+(2.9-3.0)**2+(3.1-3.0)**2)/(len(muestra)-1) #Varianza muestral \n",
        "print(math.sqrt(S))"
      ],
      "metadata": {
        "colab": {
          "base_uri": "https://localhost:8080/"
        },
        "id": "ymj9rlTKZdAi",
        "outputId": "4acb344b-ec64-4398-91da-db8333610ce4"
      },
      "execution_count": 5,
      "outputs": [
        {
          "output_type": "stream",
          "name": "stdout",
          "text": [
            "0.1581138830084191\n"
          ]
        }
      ]
    },
    {
      "cell_type": "code",
      "execution_count": 6,
      "metadata": {
        "id": "oYEEIbZ7XN7Y"
      },
      "outputs": [],
      "source": [
        "def desvest(muestra,t):\n",
        "  n=len(muestra)             # cantidad de datos\n",
        "  mean=stat.mean(muestra)    # media muestral\n",
        "  s=stat.stdev(muestra)      # desviacion estandar muestral\n",
        "\n",
        "  # usamos las formulas\n",
        "  ic1 = mean - t*(s/math.sqrt(n))     \n",
        "  ic2 = mean + t*(s/math.sqrt(n))\n",
        "  intervalo=[round(ic1, 2), round(ic2, 2)]\n",
        "  return(intervalo)"
      ]
    },
    {
      "cell_type": "code",
      "source": [
        "muestra=[3.33,3.15,2.91,3.05,2.75]\n",
        "\n",
        "#Intervalo en 80%\n",
        "desvest(muestra,0.9195)"
      ],
      "metadata": {
        "colab": {
          "base_uri": "https://localhost:8080/"
        },
        "id": "7E44p640b7fN",
        "outputId": "5867a001-dc19-4be6-d922-8f3dfea12ec5"
      },
      "execution_count": 8,
      "outputs": [
        {
          "output_type": "execute_result",
          "data": {
            "text/plain": [
              "[2.95, 3.13]"
            ]
          },
          "metadata": {},
          "execution_count": 8
        }
      ]
    },
    {
      "cell_type": "code",
      "source": [
        "#Intervalo en 90%\n",
        "desvest(muestra,1.4759)"
      ],
      "metadata": {
        "colab": {
          "base_uri": "https://localhost:8080/"
        },
        "id": "f9Z7Yi6rgQ6t",
        "outputId": "15dcc358-c5f6-4a38-eb29-156709bbdb97"
      },
      "execution_count": 9,
      "outputs": [
        {
          "output_type": "execute_result",
          "data": {
            "text/plain": [
              "[2.89, 3.18]"
            ]
          },
          "metadata": {},
          "execution_count": 9
        }
      ]
    },
    {
      "cell_type": "code",
      "source": [
        "#Intervalo en 95%\n",
        "desvest(muestra,2.0150)"
      ],
      "metadata": {
        "colab": {
          "base_uri": "https://localhost:8080/"
        },
        "id": "xrr5OaJNgX27",
        "outputId": "be98c95d-e288-405a-b5de-8ab82923ef28"
      },
      "execution_count": 13,
      "outputs": [
        {
          "output_type": "execute_result",
          "data": {
            "text/plain": [
              "[2.84, 3.24]"
            ]
          },
          "metadata": {},
          "execution_count": 13
        }
      ]
    },
    {
      "cell_type": "code",
      "source": [
        "#Intervalo en 98%\n",
        "desvest(muestra,3.3649)\n"
      ],
      "metadata": {
        "colab": {
          "base_uri": "https://localhost:8080/"
        },
        "id": "qOD2u41Sgb-6",
        "outputId": "fd5e5859-124a-4e11-9ad6-b521215d1f6f"
      },
      "execution_count": 12,
      "outputs": [
        {
          "output_type": "execute_result",
          "data": {
            "text/plain": [
              "[2.7, 3.37]"
            ]
          },
          "metadata": {},
          "execution_count": 12
        }
      ]
    },
    {
      "cell_type": "code",
      "source": [
        "#Intervalo en 99%\n",
        "desvest(muestra,4.0321)"
      ],
      "metadata": {
        "colab": {
          "base_uri": "https://localhost:8080/"
        },
        "id": "Ip4PJLWbgeCS",
        "outputId": "55a458fd-d856-4ca7-9ee0-c905187668e1"
      },
      "execution_count": 11,
      "outputs": [
        {
          "output_type": "execute_result",
          "data": {
            "text/plain": [
              "[2.64, 3.44]"
            ]
          },
          "metadata": {},
          "execution_count": 11
        }
      ]
    }
  ],
  "metadata": {
    "kernelspec": {
      "display_name": "Python 3",
      "language": "python",
      "name": "python3"
    },
    "language_info": {
      "codemirror_mode": {
        "name": "ipython",
        "version": 3
      },
      "file_extension": ".py",
      "mimetype": "text/x-python",
      "name": "python",
      "nbconvert_exporter": "python",
      "pygments_lexer": "ipython3",
      "version": "3.7.3"
    },
    "colab": {
      "name": "Ejercicio_18_SimulaciónII.ipynb",
      "provenance": []
    }
  },
  "nbformat": 4,
  "nbformat_minor": 0
}