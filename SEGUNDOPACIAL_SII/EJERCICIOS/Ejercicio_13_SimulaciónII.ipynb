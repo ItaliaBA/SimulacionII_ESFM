{
  "cells": [
    {
      "cell_type": "markdown",
      "metadata": {
        "id": "DwH65SIQBDUt"
      },
      "source": [
        "#### Ejercicio: Simulación manual. (100322)\n",
        "\n",
        "1. Completar la tabla."
      ]
    },
    {
      "cell_type": "markdown",
      "metadata": {
        "id": "wSUIjmkgBDUu"
      },
      "source": [
        "| Pkt No. |Tpll  |tps  |Tiempo de arribo|Inicio de servicio|Hora de salida|Tiempo en fila |Tiempo en el sistema  | Tamaño de cola | No. de clientes|\n",
        "|---------|-----|----|--------------|-------------------|----------------|---------------|-----------------|-------------|------|\n",
        "|    1    |  2  | 12 |       2      |         2         |      14        |      0        |       12        |       0   |  4   |\n",
        "|    2    |  5  | 10 |       7      |         14        |      24        |      7        |       17        |  1     |  6 |\n",
        "|    3    |  1  | 16 |       8      |         24        |      40        |      16       |       32        |    2   |  7   |\n",
        "|    4    |  4  | 9  |    12          |     40              |          49      |     28          |             37    |     3        |    6   |\n",
        "|    5    |  1  | 10 |   13           |     49              |      59          |          36     |       46          |    4    | 5   |\n",
        "|    6    |  3  | 13 |     16         |           59        |        72      |    43           |        56         |      5    |   4   |\n",
        "|    7    |  3  | 17 |         19     |          72         |   89             |        53       |         70        |  6   |  3  |\n",
        "|    8    |  2  | 10 |    21          |     89               |      99          |         68     |       78          |   7    |    2   |\n",
        "|    9    |  4  | 8  |    25          |        99           |  107              |  74             |      82           |   8    |  1    |\n",
        "|   10    |  5  | 12 |    30          |           107        |     119           |   77            |     89            |     9    | 0    |"
      ]
    },
    {
      "cell_type": "markdown",
      "metadata": {
        "id": "private-polish"
      },
      "source": [
        "$\\lambda=\\frac{10}{28}=0.3571$\n",
        "\n",
        "$\\mu=\\frac{10}{117}=0.0854$\n",
        "\n",
        "$Wq=\\frac{402}{10}=40.2$\n",
        "\n",
        "$W=\\frac{519}{10}=51.9$\n",
        "\n",
        "$Lq=Wq*\\lambda=14.3554$\n",
        "\n",
        "$L=W*\\lambda=18.5335$\n",
        "\n",
        "\n"
      ]
    }
  ],
  "metadata": {
    "kernelspec": {
      "display_name": "Python 3",
      "language": "python",
      "name": "python3"
    },
    "language_info": {
      "codemirror_mode": {
        "name": "ipython",
        "version": 3
      },
      "file_extension": ".py",
      "mimetype": "text/x-python",
      "name": "python",
      "nbconvert_exporter": "python",
      "pygments_lexer": "ipython3",
      "version": "3.7.3"
    },
    "colab": {
      "name": "Ejercicio_13_SimulaciónII.ipynb",
      "provenance": []
    }
  },
  "nbformat": 4,
  "nbformat_minor": 0
}