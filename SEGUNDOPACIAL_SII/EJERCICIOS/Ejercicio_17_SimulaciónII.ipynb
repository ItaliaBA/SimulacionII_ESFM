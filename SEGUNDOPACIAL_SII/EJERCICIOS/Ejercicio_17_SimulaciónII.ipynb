{
  "nbformat": 4,
  "nbformat_minor": 0,
  "metadata": {
    "colab": {
      "name": "Ejercicio_17_SimulaciónII.ipynb",
      "provenance": [],
      "collapsed_sections": []
    },
    "kernelspec": {
      "name": "python3",
      "display_name": "Python 3"
    },
    "language_info": {
      "name": "python"
    }
  },
  "cells": [
    {
      "cell_type": "markdown",
      "source": [
        "## **Ejercicio 8**\n",
        "\n",
        "\n",
        "Estimar las integrales:\n"
      ],
      "metadata": {
        "id": "P4uO_se4hmtJ"
      }
    },
    {
      "cell_type": "markdown",
      "source": [
        "$\\int_{0}^1 \\sqrt{ (arctan x)} dx$"
      ],
      "metadata": {
        "id": "XBonqV-HhzvA"
      }
    },
    {
      "cell_type": "code",
      "source": [
        "import numpy as np\n",
        "import matplotlib.pyplot as plt\n",
        "\n",
        "def funcion(x):\n",
        "    return np.sqrt(np.arctan(x)) \n",
        "\n",
        "#Graficamos la función de prueba.\n",
        "X=np.linspace(0,1,1000)\n",
        "plt.plot(X,funcion(X), label=\"$y=1/(1+x)$\")\n",
        "#plt.fill_between(X,funcion(X))\n",
        "plt.legend()\n",
        "plt.xlim(0.0, 1.2)\n",
        "plt.ylim(0.0, 1.2)\n",
        "plt.grid(True)\n",
        "plt.title('Función de prueba')\n",
        "plt.xlabel('X')\n",
        "plt.ylabel('Y')\n",
        "plt.show()\n",
        "\n",
        "def integ(func=funcion, n=3000):\n",
        "    muestreo=[]\n",
        "    suma=[]\n",
        "    for i in range(n):\n",
        "        u= np.random.random_sample()\n",
        "        muestreo.append(u)\n",
        "        y=funcion(u)\n",
        "        suma.append(y)\n",
        "\n",
        "    return np.mean(suma), np.std(suma)\n",
        "\n",
        "print(\"El valor de la integral es:\", round(integ()[0],5))\n",
        "print(\"El error estándar es:\", round(integ()[1],5))\n"
      ],
      "metadata": {
        "colab": {
          "base_uri": "https://localhost:8080/",
          "height": 330
        },
        "id": "DFO0cixXiAU5",
        "outputId": "5a84de36-e3b0-4370-9a1e-04a5c84419e4"
      },
      "execution_count": null,
      "outputs": [
        {
          "output_type": "display_data",
          "data": {
            "text/plain": [
              "<Figure size 432x288 with 1 Axes>"
            ],
            "image/png": "[encoded data removed]"
          },
          "metadata": {
            "needs_background": "light"
          }
        },
        {
          "output_type": "stream",
          "name": "stdout",
          "text": [
            "El valor de la integral es: 0.63011\n",
            "El error estándar es: 0.20237\n"
          ]
        }
      ]
    }
  ]
}