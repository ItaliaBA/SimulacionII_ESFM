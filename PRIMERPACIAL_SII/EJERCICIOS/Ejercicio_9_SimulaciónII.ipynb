{
  "nbformat": 4,
  "nbformat_minor": 0,
  "metadata": {
    "colab": {
      "name": "Ejercicio9.ipynb",
      "provenance": [],
      "collapsed_sections": []
    },
    "kernelspec": {
      "name": "python3",
      "display_name": "Python 3"
    },
    "language_info": {
      "name": "python"
    }
  },
  "cells": [
    {
      "cell_type": "markdown",
      "source": [
        "#**Ejercicio 9**\n",
        "\n",
        "\n",
        "\n",
        "a)Elegir al azar una ciudad de la Lista despues de hacer una mezcla."
      ],
      "metadata": {
        "id": "jlZ2MO0LWXNa"
      }
    },
    {
      "cell_type": "code",
      "execution_count": 1,
      "metadata": {
        "colab": {
          "base_uri": "https://localhost:8080/"
        },
        "id": "LozO1zdUVbNs",
        "outputId": "55eb4d24-3299-45f0-8ed7-22d6544d4f1c"
      },
      "outputs": [
        {
          "output_type": "stream",
          "name": "stdout",
          "text": [
            "La ciudad elegida es : Guadalajara\n"
          ]
        }
      ],
      "source": [
        "import random\n",
        "import numpy as np\n",
        "Lista = ['Tijuana','Leon','Merida','Guadalajara','CDMX', 'Saltillo','Cancun','Mexicali','San Luis Potosí','Morelia']\n",
        "random.shuffle(Lista)\n",
        "Ciudad = random.choice(Lista) \n",
        "print (\"La ciudad elegida es :\", Ciudad)"
      ]
    },
    {
      "cell_type": "markdown",
      "source": [
        "b)Elegir al azar tres ciudades después de una mezcla."
      ],
      "metadata": {
        "id": "MFBdZ2uPuaKD"
      }
    },
    {
      "cell_type": "code",
      "source": [
        "import random\n",
        "import numpy as np\n",
        "Lista = ['Tijuana','Leon','Merida','Guadalajara','CDMX', 'Saltillo','Cancun','Mexicali','San Luis Potosí','Morelia']\n",
        "random.shuffle(Lista)\n",
        "Ciudad = random.sample(Lista, 3) \n",
        "print (\"Las ciudades elegidas son : \", Ciudad) "
      ],
      "metadata": {
        "colab": {
          "base_uri": "https://localhost:8080/"
        },
        "id": "IUrk71_jXNa2",
        "outputId": "3c07d40c-486a-48e4-9dcb-cd6d804caa71"
      },
      "execution_count": 2,
      "outputs": [
        {
          "output_type": "stream",
          "name": "stdout",
          "text": [
            "Las ciudades elegidas son :  ['Leon', 'Tijuana', 'Cancun']\n"
          ]
        }
      ]
    }
  ]
}