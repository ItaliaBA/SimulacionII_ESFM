{
  "nbformat": 4,
  "nbformat_minor": 0,
  "metadata": {
    "colab": {
      "name": "Ejercicio7.ipynb",
      "provenance": [],
      "collapsed_sections": []
    },
    "kernelspec": {
      "name": "python3",
      "display_name": "Python 3"
    },
    "language_info": {
      "name": "python"
    }
  },
  "cells": [
    {
      "cell_type": "markdown",
      "source": [
        "## **Ejercicio 7**\n",
        "\n",
        "\n",
        "1. Mostrar que $\\theta_1 $ es un estimador insesgado, es decir, que $E(\\theta_1 ) = pc(b-a) = I$\n",
        "2. Mostrar que $V(\\theta_1 )=\\frac{I}{N}[c(b-a)-I]$"
      ],
      "metadata": {
        "id": "_0EQ9ncMXGuQ"
      }
    },
    {
      "cell_type": "code",
      "execution_count": 4,
      "metadata": {
        "colab": {
          "base_uri": "https://localhost:8080/"
        },
        "id": "CKpen3KwwRJN",
        "outputId": "17b457c1-bf02-4235-880c-f0b4a9f4cf34"
      },
      "outputs": [
        {
          "output_type": "stream",
          "name": "stdout",
          "text": [
            "Evaluación de la integral I = 0.6290084226093494\n",
            "Evaluación de E(theta) = 0.6290084226093494\n",
            "a)  0.6290084226093494 = 0.6290084226093494 => [E(theta) = I]\n",
            "b)  V = 1.6179260473947086e-06\n"
          ]
        }
      ],
      "source": [
        "import random\n",
        "import numpy as np\n",
        "import statistics as stats   \n",
        "import pandas as pd\n",
        "\n",
        "def test_function(x):\n",
        "    return(np.sqrt(np.arctan(x)))\n",
        "\n",
        "def integrate(x1,x2,func=test_function,n=100000):\n",
        "    X=np.linspace(x1,x2,1000)\n",
        "    y1=0\n",
        "    y2=max((func(X)))\n",
        "    cc=y2\n",
        "    area=(x2-x1)*(y2-y1)\n",
        "    check=[]\n",
        "    xs=[]\n",
        "    ys=[]\n",
        "    sum=0\n",
        "    for i in range(n):\n",
        "        x=np.random.uniform(x1,x2)\n",
        "        xs.append(x)\n",
        "        y=np.random.uniform(y1,y2)\n",
        "        ys.append(y)\n",
        "        if abs(y)>abs(func(x)) or y<0:\n",
        "            check.append(0)\n",
        "        else:\n",
        "            check.append(1)\n",
        "            sum=sum+1\n",
        "    p=sum/n\n",
        "    return(cc,p,np.mean(check)*area,xs,ys,check)\n",
        "cc,p,I,x,y,c=integrate(0,1)\n",
        "\n",
        "_,_,_,x,y,c=integrate(0,1,n=500)\n",
        "df=pd.DataFrame()\n",
        "df['x']=x\n",
        "df['y']=y\n",
        "df['c']=c\n",
        "b=1\n",
        "a=0\n",
        "print(\"Evaluación de la integral I =\",I)\n",
        "E=(p*cc)*(b-a)\n",
        "V=(I/100000)*(cc*(b-a)-I)\n",
        "print(\"Evaluación de E(theta) =\",E)\n",
        "print(\"a) \",E, \"=\", I, \"=> [E(theta) = I]\")\n",
        "print(\"b)  V =\",V)"
      ]
    }
  ]
}