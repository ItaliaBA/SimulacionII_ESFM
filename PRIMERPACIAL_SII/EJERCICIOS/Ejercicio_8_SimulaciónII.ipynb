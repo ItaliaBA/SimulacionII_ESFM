{
  "nbformat": 4,
  "nbformat_minor": 0,
  "metadata": {
    "colab": {
      "name": "Ejercicio8.ipynb",
      "provenance": [],
      "collapsed_sections": []
    },
    "kernelspec": {
      "name": "python3",
      "display_name": "Python 3"
    },
    "language_info": {
      "name": "python"
    }
  },
  "cells": [
    {
      "cell_type": "markdown",
      "source": [
        "## **Ejercicio 8**\n",
        "\n",
        "\n",
        "Estimar las integrales:\n"
      ],
      "metadata": {
        "id": "P4uO_se4hmtJ"
      }
    },
    {
      "cell_type": "markdown",
      "source": [
        "1. $\\int_0^1 (1 - x^2)^{\\frac{3}{2}} dx$"
      ],
      "metadata": {
        "id": "B3rX37DChuea"
      }
    },
    {
      "cell_type": "code",
      "execution_count": 2,
      "metadata": {
        "colab": {
          "base_uri": "https://localhost:8080/"
        },
        "id": "CeA0_ZSIWCs3",
        "outputId": "bb7b45c3-9d6a-45f3-d276-38f1379e9db1"
      },
      "outputs": [
        {
          "output_type": "stream",
          "name": "stdout",
          "text": [
            "I =  0.58768\n"
          ]
        }
      ],
      "source": [
        "import random\n",
        "import numpy as np\n",
        "from statistics import mean, median, variance, stdev\n",
        "import pandas as pd\n",
        "\n",
        "def test_function(x):\n",
        "    return((1-x**2)**(3/2))\n",
        "\n",
        "def integrate(x1,x2,func=test_function,n=100000):\n",
        "    X=np.linspace(x1,x2,1000)\n",
        "    y1=0\n",
        "    y2=max((func(X)))\n",
        "    area=(x2-x1)*(y2-y1)\n",
        "    check=[]\n",
        "    xs=[]\n",
        "    ys=[]\n",
        "    for i in range(n):\n",
        "        x=np.random.uniform(x1,x2,1)\n",
        "        xs.append(x)\n",
        "        y=np.random.uniform(y1,y2,1)\n",
        "        ys.append(y)\n",
        "        if abs(y)>abs(func(x)) or y<0:\n",
        "            check.append(0)\n",
        "        else:\n",
        "            check.append(1)\n",
        "    return(np.mean(check)*area,xs,ys,check)\n",
        "I,x,y,c=integrate(0,1)\n",
        "print(\"I = \",I)\n"
      ]
    },
    {
      "cell_type": "markdown",
      "source": [
        "2. $\\int_{-2}^2 \\exp (x + x^2) dx$"
      ],
      "metadata": {
        "id": "XBonqV-HhzvA"
      }
    },
    {
      "cell_type": "code",
      "source": [
        "import random\n",
        "import numpy as np\n",
        "from statistics import mean, median, variance, stdev\n",
        "from math import exp\n",
        "\n",
        "def test_function(x):\n",
        "    return(exp(x+x**2))\n",
        "\n",
        "def integral(func=test_function, n=10000):\n",
        "    suma=[]\n",
        "    a=-2\n",
        "    b=2\n",
        "    for i in range(n):\n",
        "        u=random.uniform(a,b)\n",
        "        y=func(u)\n",
        "        suma.append(y)\n",
        "\n",
        "    return((b-a)*(np.mean(suma)))\n",
        "\n",
        "print(\"I =\", integral())"
      ],
      "metadata": {
        "colab": {
          "base_uri": "https://localhost:8080/"
        },
        "id": "DFO0cixXiAU5",
        "outputId": "de1c5d5b-9260-414b-eb1d-85ddde39ce16"
      },
      "execution_count": 3,
      "outputs": [
        {
          "output_type": "stream",
          "name": "stdout",
          "text": [
            "I = 92.78526929202809\n"
          ]
        }
      ]
    }
  ]
}