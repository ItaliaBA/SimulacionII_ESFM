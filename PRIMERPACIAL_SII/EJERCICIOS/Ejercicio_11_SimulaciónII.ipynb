{
  "nbformat": 4,
  "nbformat_minor": 0,
  "metadata": {
    "colab": {
      "name": "Ejercicio11.ipynb",
      "provenance": [],
      "collapsed_sections": []
    },
    "kernelspec": {
      "name": "python3",
      "display_name": "Python 3"
    },
    "language_info": {
      "name": "python"
    }
  },
  "cells": [
    {
      "cell_type": "markdown",
      "source": [
        "#**Ejercicio 11**\n",
        "\n",
        "\n",
        "Simular dos distribuciones de probabilidad (no la normal, no la exponencial), por el método que prefieran."
      ],
      "metadata": {
        "id": "dQWImGhkOmqo"
      }
    },
    {
      "cell_type": "code",
      "source": [
        "import random\n",
        "import numpy as np\n",
        "import matplotlib.pyplot as plt   \n",
        "\n",
        "nums = []\n",
        "p=.5\n",
        "\n",
        "for i in range(10000):\n",
        "    U=random.random()\n",
        "    if U<=(1-p):\n",
        "      X=0\n",
        "    else:\n",
        "      X=1\n",
        "    nums.append(X)\n",
        "\n",
        "plt.hist(nums, bins = 10, color = 'pink')\n",
        "plt.show()"
      ],
      "metadata": {
        "colab": {
          "base_uri": "https://localhost:8080/",
          "height": 265
        },
        "id": "aMYbM_XuK58l",
        "outputId": "f46d142c-d1ec-4943-c105-5b8474e13059"
      },
      "execution_count": 4,
      "outputs": [
        {
          "output_type": "display_data",
          "data": {
            "text/plain": [
              "<Figure size 432x288 with 1 Axes>"
            ],
            "image/png": "[encoded data removed]"
          },
          "metadata": {
            "needs_background": "light"
          }
        }
      ]
    },
    {
      "cell_type": "code",
      "execution_count": 21,
      "metadata": {
        "colab": {
          "base_uri": "https://localhost:8080/",
          "height": 265
        },
        "id": "Oz-gC9Uo1Pos",
        "outputId": "075aed77-138a-468f-adb5-53ad684a54c3"
      },
      "outputs": [
        {
          "output_type": "display_data",
          "data": {
            "text/plain": [
              "<Figure size 432x288 with 1 Axes>"
            ],
            "image/png": "[encoded data removed]"
          },
          "metadata": {
            "needs_background": "light"
          }
        }
      ],
      "source": [
        "nums = []\n",
        "\n",
        "for i in range(10000):\n",
        "    temp = np.random.geometric(0.5)\n",
        "\n",
        "    nums.append(temp)\n",
        "\n",
        "plt.hist(nums, bins = 10, color = 'purple')\n",
        "plt.show()"
      ]
    }
  ]
}