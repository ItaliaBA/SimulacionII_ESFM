{
  "nbformat": 4,
  "nbformat_minor": 0,
  "metadata": {
    "colab": {
      "name": "Ejercicio_2-SimulaciónII.ipynb",
      "provenance": []
    },
    "kernelspec": {
      "name": "python3",
      "display_name": "Python 3"
    },
    "language_info": {
      "name": "python"
    }
  },
  "cells": [
    {
      "cell_type": "markdown",
      "metadata": {
        "id": "MsDbGX9gaWxH"
      },
      "source": [
        "## Ejercicio 2:\n",
        "    a) Simular un sorteo de los colores blanco, negro, rojo, azul y verde.\n",
        "    b) Simular 5 sorteos con sustitución."
      ]
    },
    {
      "cell_type": "code",
      "source": [
        "#EJERCICIO 2.a\n",
        "import random\n",
        "\n",
        "colores = ['Blanco', 'Negro', 'Rojo', 'Azul', 'Verde']\n",
        "def selectRandom(colores):\n",
        "  return random.choice(colores)\n",
        "\n",
        "print(selectRandom(colores))\n",
        "print(\"--------------------\")\n",
        "\n",
        "#EJERCICIO 2.b\n",
        "for i in range(5):\n",
        "    print(i+1, selectRandom(colores))\n",
        "print()"
      ],
      "metadata": {
        "id": "EOsO5DV-bTSM",
        "outputId": "6ace8626-767c-49bc-bdbd-10cc9278e2fc",
        "colab": {
          "base_uri": "https://localhost:8080/"
        }
      },
      "execution_count": null,
      "outputs": [
        {
          "output_type": "stream",
          "name": "stdout",
          "text": [
            "Blanco\n",
            "--------------------\n",
            "1 Azul\n",
            "2 Rojo\n",
            "3 Rojo\n",
            "4 Verde\n",
            "5 Rojo\n",
            "\n"
          ]
        }
      ]
    }
  ]
}