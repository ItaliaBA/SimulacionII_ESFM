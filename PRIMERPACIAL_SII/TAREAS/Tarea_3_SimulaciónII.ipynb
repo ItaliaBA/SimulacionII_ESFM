{
  "nbformat": 4,
  "nbformat_minor": 0,
  "metadata": {
    "colab": {
      "name": "Tarea_3_SimulaciónII.ipynb",
      "provenance": []
    },
    "kernelspec": {
      "name": "python3",
      "display_name": "Python 3"
    },
    "language_info": {
      "name": "python"
    }
  },
  "cells": [
    {
      "cell_type": "code",
      "source": [
        "import numpy as np\n",
        "from random import random\n",
        "from math import pi\n",
        "n=10000\n",
        "l=0.75\n",
        "a=1\n",
        "k = 0\n",
        "t = np.random.uniform(0, np.pi, n)\n",
        "x = np.random.uniform(0, a/2, n)\n",
        "    \n",
        "for i in range(n):\n",
        "  if x[i] <= l * np.sin(t[i]) / 2:\n",
        "    k = k + 1\n",
        "            \n",
        "pi_calculado = 2 * l * n / (a * k)\n",
        "\n",
        "print(\"Pi evaluado con buffon: \",pi_calculado, \"Pi real:\", pi)\n"
      ],
      "metadata": {
        "colab": {
          "base_uri": "https://localhost:8080/"
        },
        "id": "JbcO_RzuJPib",
        "outputId": "1fabb4ea-eb3d-4507-b2de-c6de40fff423"
      },
      "execution_count": 23,
      "outputs": [
        {
          "output_type": "stream",
          "name": "stdout",
          "text": [
            "Pi evaluado con buffon:  3.1439949696080487 Pi real: 3.141592653589793\n"
          ]
        }
      ]
    }
  ]
}