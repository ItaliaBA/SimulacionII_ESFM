{
  "nbformat": 4,
  "nbformat_minor": 0,
  "metadata": {
    "colab": {
      "name": "Tarea 1-SimulaciónII.ipynb",
      "provenance": []
    },
    "kernelspec": {
      "name": "python3",
      "display_name": "Python 3"
    },
    "language_info": {
      "name": "python"
    }
  },
  "cells": [
    {
      "cell_type": "markdown",
      "metadata": {
        "id": "8Kex0vmgaWxO"
      },
      "source": [
        "# Tarea 1. \n",
        "    Estimar el valor de pi usando la función random"
      ]
    },
    {
      "cell_type": "code",
      "execution_count": 2,
      "metadata": {
        "id": "6n3S8MA0aWxR",
        "outputId": "7f30bccd-f994-48b9-96aa-ba771616b16d",
        "colab": {
          "base_uri": "https://localhost:8080/"
        }
      },
      "outputs": [
        {
          "output_type": "stream",
          "name": "stdout",
          "text": [
            "10000000 3.1418764\n"
          ]
        }
      ],
      "source": [
        "from random import random\n",
        "N=10000000\n",
        "n=0\n",
        "for i in range (N):\n",
        "  x=random()\n",
        "  y=random()\n",
        "  if x**2+y**2<1:\n",
        "    n=n+1\n",
        "  i=i+1\n",
        "  if i%10000==0:\n",
        "    est=4*n/(i)\n",
        "print(i,est)"
      ]
    }
  ]
}